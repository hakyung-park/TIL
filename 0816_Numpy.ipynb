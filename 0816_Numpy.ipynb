{
  "nbformat": 4,
  "nbformat_minor": 0,
  "metadata": {
    "colab": {
      "name": "0816_Numpy.ipynb",
      "provenance": [],
      "collapsed_sections": [],
      "toc_visible": true,
      "authorship_tag": "ABX9TyN2NVKdcxNAFmJvUAcNIvTZ",
      "include_colab_link": true
    },
    "kernelspec": {
      "name": "python3",
      "display_name": "Python 3"
    },
    "language_info": {
      "name": "python"
    }
  },
  "cells": [
    {
      "cell_type": "markdown",
      "metadata": {
        "id": "view-in-github",
        "colab_type": "text"
      },
      "source": [
        "<a href=\"https://colab.research.google.com/github/hakyung-park/TIL/blob/main/0816_Numpy.ipynb\" target=\"_parent\"><img src=\"https://colab.research.google.com/assets/colab-badge.svg\" alt=\"Open In Colab\"/></a>"
      ]
    },
    {
      "cell_type": "markdown",
      "metadata": {
        "id": "tlKNWb1CSgDo"
      },
      "source": [
        "# Numpy\n",
        "\n",
        "- python의 numpy module은 vector와 matrix 연산에 있어서 상당한 편의성을 제공합니다.\n",
        "- Machine Learning과 Deap Learning의 기본 module입니다.\n",
        "- google colaboratory에서는 기본적으로 설치되어 있습니다.\n",
        "- 로컬에서는 다음과 같은 코드로 numpy를 내 가상환경에 설치할 수 있습니다.\n"
      ]
    },
    {
      "cell_type": "code",
      "metadata": {
        "id": "enqKpIRTTQ1Y",
        "colab": {
          "base_uri": "https://localhost:8080/"
        },
        "outputId": "0632d162-514d-4026-ba7d-a477c14aec3f"
      },
      "source": [
        "!conda install numpy"
      ],
      "execution_count": null,
      "outputs": [
        {
          "output_type": "stream",
          "text": [
            "/bin/bash: conda: command not found\n"
          ],
          "name": "stdout"
        }
      ]
    },
    {
      "cell_type": "code",
      "metadata": {
        "id": "lS4jDwcKTpTz"
      },
      "source": [
        "import numpy as np"
      ],
      "execution_count": null,
      "outputs": []
    },
    {
      "cell_type": "markdown",
      "metadata": {
        "id": "V_HlcjANM0os"
      },
      "source": [
        "---"
      ]
    },
    {
      "cell_type": "markdown",
      "metadata": {
        "id": "K37YtNUkUPHi"
      },
      "source": [
        "## ndarray란?\n",
        "- python의 대표적인 데이터타입(자료구조)으로는 `list`, `tuple`, `range`, `dict`, `set` 이 있습니다.\n",
        "- numpy는 `ndarray`라는 새로운 데이터타입을 이용합니다.\n",
        "- `ndarray` : (n-dimenstional array)\n",
        "    - python의 `list`와 유사하게 생겼습니다.\n",
        "    - python의 `list`는 각기 다른 데이터 타입을 저장할 수 있습니다.\n",
        "        `a=[1, True, 'Hello', 3.14]`\n",
        "    - `ndarray`는 동일한 데이터 타입만 사용할 수 있습니다.\n",
        "    - `list`와 상당히 유사하지만, 수학적 계산 속도면에서 `ndarray`가 월등히 빠르고 효율적입니다.\n"
      ]
    },
    {
      "cell_type": "code",
      "metadata": {
        "colab": {
          "base_uri": "https://localhost:8080/"
        },
        "id": "1aGE0ZeBW_jC",
        "outputId": "3d4724c6-9108-4567-b715-c1f68eef1e30"
      },
      "source": [
        "# list \n",
        "# [ ]를 사용하고, 원소의 구분을 \",\"로 한다.\n",
        "\n",
        "a = [1, 2, 3, 4]\n",
        "print(a)            # [1, 2, 3, 4]\n",
        "print(type(a))      # <class 'list'> "
      ],
      "execution_count": null,
      "outputs": [
        {
          "output_type": "stream",
          "text": [
            "[1, 2, 3, 4]\n",
            "<class 'list'>\n"
          ],
          "name": "stdout"
        }
      ]
    },
    {
      "cell_type": "code",
      "metadata": {
        "colab": {
          "base_uri": "https://localhost:8080/"
        },
        "id": "EYnyvxVIXScs",
        "outputId": "4f88f465-9d99-4cdf-f990-bea4710471f0"
      },
      "source": [
        "# ndarray\n",
        "# np.array에 리스트를 넣어 만드는 방법이 가장 일반적이다.\n",
        "# list와 유사하지만 요소의 구분을 space로 한다.\n",
        "\n",
        "b = np.array([1, 2, 3, 4])\n",
        "c = np.array(a)\n",
        "print(b)                    # [1 2 3 4]\n",
        "print(type(b), type(c))     # <class 'numpy.ndarray'>"
      ],
      "execution_count": null,
      "outputs": [
        {
          "output_type": "stream",
          "text": [
            "[1 2 3 4]\n",
            "<class 'numpy.ndarray'> <class 'numpy.ndarray'>\n"
          ],
          "name": "stdout"
        }
      ]
    },
    {
      "cell_type": "code",
      "metadata": {
        "colab": {
          "base_uri": "https://localhost:8080/"
        },
        "id": "yCwG00MdYW_r",
        "outputId": "ade2a52d-3d56-4247-c6dc-fa1be5b2d387"
      },
      "source": [
        "# 원소의 데이터타입도 list와 다르다.\n",
        "\n",
        "a = [1, 2, 3, 4]\n",
        "print(type(a[0]))       # <class 'int'>\n",
        "\n",
        "b = np.array([1, 2, 3, 4])\n",
        "print(type(b[0]))       # <class 'numpy.int64'>\n",
        "\n",
        "c = np.array([1, 2, 3.14, 4])\n",
        "print(c)                \n",
        "print(type(c[0]))       # <class 'numpy.float64'>\n",
        "\n",
        "d = np.array([1, 2, 3.14, 4], dtype=np.int32) # 정수로 저장해!라는 옵션\n",
        "print(d)                \n",
        "print(type(d[0]))       # <class 'numpy.int32'>"
      ],
      "execution_count": null,
      "outputs": [
        {
          "output_type": "stream",
          "text": [
            "<class 'int'>\n",
            "<class 'numpy.int64'>\n",
            "[1.   2.   3.14 4.  ]\n",
            "<class 'numpy.float64'>\n",
            "[1 2 3 4]\n",
            "<class 'numpy.int32'>\n"
          ],
          "name": "stdout"
        }
      ]
    },
    {
      "cell_type": "code",
      "metadata": {
        "colab": {
          "base_uri": "https://localhost:8080/"
        },
        "id": "Bu8fHRLVaKtc",
        "outputId": "62965870-649e-4d67-92e1-4f4e4046bac3"
      },
      "source": [
        "# ndarray는 동일한 데이터타입의 원소를 가진다.\n",
        "\n",
        "a = [1, 3.14, True, 'hello']\n",
        "b = np.array(a)\n",
        "b"
      ],
      "execution_count": null,
      "outputs": [
        {
          "output_type": "execute_result",
          "data": {
            "text/plain": [
              "array(['1', '3.14', 'True', 'hello'], dtype='<U32')"
            ]
          },
          "metadata": {
            "tags": []
          },
          "execution_count": 6
        }
      ]
    },
    {
      "cell_type": "markdown",
      "metadata": {
        "id": "MzDmKZGSM6Z3"
      },
      "source": [
        "---"
      ]
    },
    {
      "cell_type": "markdown",
      "metadata": {
        "id": "-xlo964gfa3n"
      },
      "source": [
        "## 다차원 구조\n",
        "ndarray는 다차원 구조를 표현할 때 사용합니다."
      ]
    },
    {
      "cell_type": "code",
      "metadata": {
        "colab": {
          "base_uri": "https://localhost:8080/"
        },
        "id": "evEU135ZfikA",
        "outputId": "19d6d9ec-b2a9-4999-9d36-8a2a7f85df3b"
      },
      "source": [
        "# 중첩 리스트\n",
        "\n",
        "a = [[1, 2, 3], [4, 5, 6]]\n",
        "b = np.array(a, dtype=np.float64)\n",
        "print(b)"
      ],
      "execution_count": null,
      "outputs": [
        {
          "output_type": "stream",
          "text": [
            "[[1. 2. 3.]\n",
            " [4. 5. 6.]]\n"
          ],
          "name": "stdout"
        }
      ]
    },
    {
      "cell_type": "code",
      "metadata": {
        "colab": {
          "base_uri": "https://localhost:8080/"
        },
        "id": "YHMi94nNgyPR",
        "outputId": "82863530-7900-483d-fb28-dc6a21be2147"
      },
      "source": [
        "# 행, 열을 설정하여 인덱싱\n",
        "# 0부터 시작합니다.\n",
        "\n",
        "print(b[1,1])   # 1행, 1열"
      ],
      "execution_count": null,
      "outputs": [
        {
          "output_type": "stream",
          "text": [
            "5.0\n"
          ],
          "name": "stdout"
        }
      ]
    },
    {
      "cell_type": "markdown",
      "metadata": {
        "id": "t4XGLCxhM80G"
      },
      "source": [
        "---"
      ]
    },
    {
      "cell_type": "markdown",
      "metadata": {
        "id": "90udk6aQhD8j"
      },
      "source": [
        "## ndarray의 속성\n",
        "- `a.dtype` : numpy에 대한 데이터타입을 알려줍니다.\n",
        "- `a.dim` : 몇 차원인지 알려줍니다.\n",
        "- `a.shape` : 형태를 `tuple`로 알려줍니다. 요소 개수가 차원 수입니다.\n",
        "- `a.size` : 요소의 개수를 알려줍니다.\n",
        "- `.astype()` : 요소의 data type을 설정합니다."
      ]
    },
    {
      "cell_type": "code",
      "metadata": {
        "colab": {
          "base_uri": "https://localhost:8080/"
        },
        "id": "LmP4gGhzhtnL",
        "outputId": "7f8e084b-db35-42b2-a521-64352513e406"
      },
      "source": [
        "print(b.dtype)\n",
        "print(b.ndim)\n",
        "print(b.shape)"
      ],
      "execution_count": null,
      "outputs": [
        {
          "output_type": "stream",
          "text": [
            "float64\n",
            "2\n",
            "(2, 3)\n"
          ],
          "name": "stdout"
        }
      ]
    },
    {
      "cell_type": "code",
      "metadata": {
        "colab": {
          "base_uri": "https://localhost:8080/"
        },
        "id": "7RGN6-M7iw-M",
        "outputId": "cb971e7e-1a9f-48b2-fd52-2b4ee8fcc2e8"
      },
      "source": [
        "# 1차원 \n",
        "\n",
        "a = [1, 2, 3, 4, 5]\n",
        "print(np.array(a).shape)"
      ],
      "execution_count": null,
      "outputs": [
        {
          "output_type": "stream",
          "text": [
            "(5,)\n"
          ],
          "name": "stdout"
        }
      ]
    },
    {
      "cell_type": "code",
      "metadata": {
        "colab": {
          "base_uri": "https://localhost:8080/"
        },
        "id": "XZ_gvOsyjPed",
        "outputId": "b52645d1-bcef-4acc-d80a-0b7cd49b52c2"
      },
      "source": [
        "# 3차원 (면, 행, 렬)\n",
        "\n",
        "a = [[[1, 2, 3, 4], [5, 6, 7, 8]]]\n",
        "print(np.array(a))\n",
        "print(np.array(a).shape)\n",
        "print('\\n')\n",
        "\n",
        "b = [[[1,2],[3,4]], [[5,6],[7,8]]]\n",
        "print(np.array(b))\n",
        "print(np.array(b).shape)"
      ],
      "execution_count": null,
      "outputs": [
        {
          "output_type": "stream",
          "text": [
            "[[[1 2 3 4]\n",
            "  [5 6 7 8]]]\n",
            "(1, 2, 4)\n",
            "\n",
            "\n",
            "[[[1 2]\n",
            "  [3 4]]\n",
            "\n",
            " [[5 6]\n",
            "  [7 8]]]\n",
            "(2, 2, 2)\n"
          ],
          "name": "stdout"
        }
      ]
    },
    {
      "cell_type": "code",
      "metadata": {
        "colab": {
          "base_uri": "https://localhost:8080/"
        },
        "id": "XYf_R5hzkwrj",
        "outputId": "f1bb0638-e35e-4fb3-9e11-32164afde48b"
      },
      "source": [
        "# shape을 지정하기 \n",
        "\n",
        "a = [1, 2, 3, 4]    # list\n",
        "\n",
        "arr = np.array(a)   # int32형태의 ndarray(vector)가 생성\n",
        "print(arr)          # [1 2 3 4]\n",
        "print(arr.shape)    # (4,)\n",
        "\n",
        "print('\\n')\n",
        "\n",
        "arr.shape = (2,2)\n",
        "print(arr)\n",
        "print(arr.size)\n",
        "\n",
        "print('\\n')\n",
        "\n",
        "arr.shape = (4,1,1)\n",
        "print(arr)\n",
        "print(arr.size)"
      ],
      "execution_count": null,
      "outputs": [
        {
          "output_type": "stream",
          "text": [
            "[1 2 3 4]\n",
            "(4,)\n",
            "\n",
            "\n",
            "[[1 2]\n",
            " [3 4]]\n",
            "4\n",
            "\n",
            "\n",
            "[[[1]]\n",
            "\n",
            " [[2]]\n",
            "\n",
            " [[3]]\n",
            "\n",
            " [[4]]]\n",
            "4\n"
          ],
          "name": "stdout"
        }
      ]
    },
    {
      "cell_type": "code",
      "metadata": {
        "colab": {
          "base_uri": "https://localhost:8080/"
        },
        "id": "niAKS0NHm94z",
        "outputId": "f7980a01-8097-4060-a552-5c1c9e40e599"
      },
      "source": [
        "# data type을 바꾸려면?\n",
        "\n",
        "a = [1, 2, 3, 4, 5, 6]\n",
        "arr = np.array(a, dtype=np.float64)\n",
        "print(arr)\n",
        "\n",
        "# int32로 바꾸자 \n",
        "\n",
        "result = arr.astype(np.int32)\n",
        "print(result)"
      ],
      "execution_count": null,
      "outputs": [
        {
          "output_type": "stream",
          "text": [
            "[1. 2. 3. 4. 5. 6.]\n",
            "[1 2 3 4 5 6]\n"
          ],
          "name": "stdout"
        }
      ]
    },
    {
      "cell_type": "markdown",
      "metadata": {
        "id": "fqY5CSlwM_Wk"
      },
      "source": [
        "---"
      ]
    },
    {
      "cell_type": "markdown",
      "metadata": {
        "id": "RCaO5bVAv-H6"
      },
      "source": [
        "## ndarray를 만드는 방법\n",
        "list를 nparray로 변환하는 것이 일반적인 방법입니다. 이 때 데이터타입을 실수로 명시하는 게 앞으로 계산을 위해 편리합니다.\n",
        "- `np.array(리스트, dtype=np.float64)`\n",
        "- `.zeros()`\n",
        "- `.ones()`\n",
        "- `.empty()`\n",
        "- `.full()`\n",
        "- `.zeros_like`"
      ]
    },
    {
      "cell_type": "code",
      "metadata": {
        "colab": {
          "base_uri": "https://localhost:8080/"
        },
        "id": "yKCzYkNZsq-V",
        "outputId": "09be0115-3564-41ea-89cd-16afb7620d4e"
      },
      "source": [
        "# ndarray를 만드는 다른 방법\n",
        "\n",
        "arr = np.zeros((2,3,4))     # default data type : np.float64 \n",
        "print(arr)\n",
        "print('\\n')\n",
        "\n",
        "arr = np.ones((2,3))\n",
        "print(arr)\n",
        "print('\\n')\n",
        "\n",
        "arr = np.empty((5,6))       # 형태를 만들고, 초기 값을 설정하지 않기 때문에, garbage값이 들어가 있음\n",
        "print(arr)\n",
        "print('\\n')\n",
        "\n",
        "arr = np.full((3,4), 9.)    # 9.로 채운 (3,4)를 만들자 \n",
        "print(arr)\n",
        "print('\\n')\n",
        "\n",
        "arr = np.array([[1,2,3], [4,5,6]], dtype=np.float64)\n",
        "result = np.zeros_like(arr) # arr와 같은 형태를 가져와서 0으로 채우자\n",
        "print(result)"
      ],
      "execution_count": null,
      "outputs": [
        {
          "output_type": "stream",
          "text": [
            "[[[0. 0. 0. 0.]\n",
            "  [0. 0. 0. 0.]\n",
            "  [0. 0. 0. 0.]]\n",
            "\n",
            " [[0. 0. 0. 0.]\n",
            "  [0. 0. 0. 0.]\n",
            "  [0. 0. 0. 0.]]]\n",
            "\n",
            "\n",
            "[[1. 1. 1.]\n",
            " [1. 1. 1.]]\n",
            "\n",
            "\n",
            "[[ 4.64833603e-310  4.64833434e-310  9.88131292e-322              nan\n",
            "  -3.62103555e-174  1.07048512e-153]\n",
            " [-1.01384643e-093  9.00495204e+130  1.05146955e-153  8.96864219e+130\n",
            "   1.08266924e-095  1.71133120e+243]\n",
            " [ 1.33733643e+160  2.11064440e-110  4.41988634e+222  1.03063392e-113\n",
            "   4.24819624e+180  8.29655075e-114]\n",
            " [ 1.87440516e+164  8.12592138e-096  9.60906492e+140  9.65049389e-048\n",
            "   5.56736430e+141  8.29655075e-114]\n",
            " [ 4.83245960e+276  8.82069537e+199  9.16526748e+242  6.59024591e+246\n",
            "   2.64624249e-260  0.00000000e+000]]\n",
            "\n",
            "\n",
            "[[9. 9. 9. 9.]\n",
            " [9. 9. 9. 9.]\n",
            " [9. 9. 9. 9.]]\n",
            "\n",
            "\n",
            "[[0. 0. 0.]\n",
            " [0. 0. 0.]]\n"
          ],
          "name": "stdout"
        }
      ]
    },
    {
      "cell_type": "markdown",
      "metadata": {
        "id": "WIOaH4x-NB3l"
      },
      "source": [
        "---"
      ]
    },
    {
      "cell_type": "markdown",
      "metadata": {
        "id": "t6lyLdnSwrIa"
      },
      "source": [
        "## arange\n",
        "- `arange(시작, 끝+1, step)`"
      ]
    },
    {
      "cell_type": "code",
      "metadata": {
        "colab": {
          "base_uri": "https://localhost:8080/"
        },
        "id": "ugOI5Vn-vguL",
        "outputId": "a397ef0c-53fc-40ea-cdf1-7e049bb3f635"
      },
      "source": [
        "# arange\n",
        "\n",
        "a = range(0,10,1)   # 의미만 가지고 있고, 데이터 요소를 가지고 있지 않다.\n",
        "print(a)       \n",
        "\n",
        "arr = np.arange(0,10,2)\n",
        "print(arr)          # 실제 데이터를 가지고 있다."
      ],
      "execution_count": null,
      "outputs": [
        {
          "output_type": "stream",
          "text": [
            "range(0, 10)\n",
            "[0 2 4 6 8]\n"
          ],
          "name": "stdout"
        }
      ]
    },
    {
      "cell_type": "markdown",
      "metadata": {
        "id": "YwIcw5BQNDwD"
      },
      "source": [
        "---"
      ]
    },
    {
      "cell_type": "markdown",
      "metadata": {
        "id": "rpqqJJxCwtqm"
      },
      "source": [
        "## linspace\n",
        "- `linspace(start, stop, num)`\n",
        "- array를 생성하는 또 다른 방법입니다.\n",
        "- start에서 stop까지의 법위에서 num개의 균일한 간격으로 원소를 생성하고 배열을 만듭니다."
      ]
    },
    {
      "cell_type": "code",
      "metadata": {
        "colab": {
          "base_uri": "https://localhost:8080/"
        },
        "id": "rN3RBlRHwKuP",
        "outputId": "81ae7477-beb8-4d31-e6ed-58990b690958"
      },
      "source": [
        "arr = np.linspace(0,10,10)\n",
        "print(arr)\n",
        "\n",
        "arr2 = np.linspace(0,10,11)\n",
        "print(arr2)"
      ],
      "execution_count": null,
      "outputs": [
        {
          "output_type": "stream",
          "text": [
            "[ 0.          1.11111111  2.22222222  3.33333333  4.44444444  5.55555556\n",
            "  6.66666667  7.77777778  8.88888889 10.        ]\n",
            "[ 0.  1.  2.  3.  4.  5.  6.  7.  8.  9. 10.]\n"
          ],
          "name": "stdout"
        }
      ]
    },
    {
      "cell_type": "code",
      "metadata": {
        "id": "AFP_sFXzypqB"
      },
      "source": [
        "import matplotlib.pyplot as plt"
      ],
      "execution_count": null,
      "outputs": []
    },
    {
      "cell_type": "code",
      "metadata": {
        "colab": {
          "base_uri": "https://localhost:8080/",
          "height": 513
        },
        "id": "Ng-1kj-0yuWv",
        "outputId": "3602e811-e6fd-4db3-941b-b80188aa24f6"
      },
      "source": [
        "plt.plot(arr, '*')\n",
        "plt.show()\n",
        "\n",
        "plt.plot(arr2, 'o')\n",
        "plt.show()"
      ],
      "execution_count": null,
      "outputs": [
        {
          "output_type": "display_data",
          "data": {
            "image/png": "[encoded data removed]",
            "text/plain": [
              "<Figure size 432x288 with 1 Axes>"
            ]
          },
          "metadata": {
            "tags": [],
            "needs_background": "light"
          }
        },
        {
          "output_type": "display_data",
          "data": {
            "image/png": "[encoded data removed]",
            "text/plain": [
              "<Figure size 432x288 with 1 Axes>"
            ]
          },
          "metadata": {
            "tags": [],
            "needs_background": "light"
          }
        }
      ]
    },
    {
      "cell_type": "markdown",
      "metadata": {
        "id": "hpjKgvHiNF6Y"
      },
      "source": [
        "---"
      ]
    },
    {
      "cell_type": "markdown",
      "metadata": {
        "id": "KAL_EHef0k41"
      },
      "source": [
        "## 랜덤하게 ndarray 생성하기\n",
        "- `np.random.normal(평균, std, shape)` : \n",
        "    - 정규분포 확률밀도함수에서 실수 표본을 추출해서 ndarray를 생성합니다.\n",
        "    - 평균, 표준편차가 인자로 필요합니다.\n",
        "- `np.random.rand(shape)` : \n",
        "    - 0 이상 1 미만의 균등분포 확률밀도함수에서 실수 표본을 추출해서 ndarray를 생성합니다.\n",
        "- `np.random.randn(shape)` : \n",
        "    - 표준정규분포(평균0, 표준편차1인 정규분포)에서 실수 표본을 추출해서 ndarray를 생성합니다.\n",
        "- `np.random.randint(최솟값, 최댓값, shape)` :\n",
        "    - 최솟값과 최댓값 사이에서 정해진 shape으로 \n",
        "    - 균등분포를 따르는 분포에서 정수 표본을 추출해서 ndarray를 생성합니다. \n",
        "- `np.random.random(shape)` :\n",
        "    - 0 이상 1 미만 균등분포에서 실수형 난수를 추출하여 ndarray를 생성합니다."
      ]
    },
    {
      "cell_type": "code",
      "metadata": {
        "colab": {
          "base_uri": "https://localhost:8080/",
          "height": 300
        },
        "id": "gMvA0FRgJrOQ",
        "outputId": "752c6cb8-1bde-40a9-f23f-44288cdf5a42"
      },
      "source": [
        "# np.random.normal() : 정규분포\n",
        "\n",
        "mean = 50\n",
        "std = 2\n",
        "arr = np.random.normal(mean, std, (100000,))\n",
        "print(arr)\n",
        "\n",
        "plt.hist(arr, bins=100)\n",
        "plt.show()"
      ],
      "execution_count": null,
      "outputs": [
        {
          "output_type": "stream",
          "text": [
            "[50.35918821 51.16699918 49.68462609 ... 45.70847449 49.34408362\n",
            " 47.79113633]\n"
          ],
          "name": "stdout"
        },
        {
          "output_type": "display_data",
          "data": {
            "image/png": "[encoded data removed]",
            "text/plain": [
              "<Figure size 432x288 with 1 Axes>"
            ]
          },
          "metadata": {
            "tags": [],
            "needs_background": "light"
          }
        }
      ]
    },
    {
      "cell_type": "code",
      "metadata": {
        "colab": {
          "base_uri": "https://localhost:8080/",
          "height": 317
        },
        "id": "4VPbXqrGL4pc",
        "outputId": "a775b350-a9e2-4419-9408-b3abb00e9677"
      },
      "source": [
        "# np.random.rand() : 균일분포\n",
        "\n",
        "arr2 = np.random.rand(2,3)   # 인자가 2개이므로 2차원. 2행 3열의 구조로 생성.\n",
        "print(arr2)\n",
        "\n",
        "arr = np.random.rand(10000)\n",
        "print(arr)\n",
        "\n",
        "plt.hist(arr, bins=100)\n",
        "plt.show()"
      ],
      "execution_count": null,
      "outputs": [
        {
          "output_type": "stream",
          "text": [
            "[[0.49917684 0.75020498 0.37409007]\n",
            " [0.25576158 0.52078981 0.82666918]]\n",
            "[0.70162046 0.34204339 0.6941118  ... 0.72020826 0.9596369  0.59947731]\n"
          ],
          "name": "stdout"
        },
        {
          "output_type": "display_data",
          "data": {
            "image/png": "[encoded data removed]",
            "text/plain": [
              "<Figure size 432x288 with 1 Axes>"
            ]
          },
          "metadata": {
            "tags": [],
            "needs_background": "light"
          }
        }
      ]
    },
    {
      "cell_type": "code",
      "metadata": {
        "colab": {
          "base_uri": "https://localhost:8080/",
          "height": 300
        },
        "id": "uhntUW96Nap7",
        "outputId": "113f3558-8385-4fa0-d538-488168ac7178"
      },
      "source": [
        "# np.random.randn() : 표준정규분포\n",
        "\n",
        "arr = np.random.randn(10000)\n",
        "print(arr)\n",
        "\n",
        "plt.hist(arr, bins=100)\n",
        "plt.show()"
      ],
      "execution_count": null,
      "outputs": [
        {
          "output_type": "stream",
          "text": [
            "[-0.6737151   0.75550264 -0.6708751  ... -1.58251156  1.08588924\n",
            " -0.73572669]\n"
          ],
          "name": "stdout"
        },
        {
          "output_type": "display_data",
          "data": {
            "image/png": "[encoded data removed]",
            "text/plain": [
              "<Figure size 432x288 with 1 Axes>"
            ]
          },
          "metadata": {
            "tags": [],
            "needs_background": "light"
          }
        }
      ]
    },
    {
      "cell_type": "code",
      "metadata": {
        "colab": {
          "base_uri": "https://localhost:8080/",
          "height": 282
        },
        "id": "B9TO2qhBOmPZ",
        "outputId": "77d634eb-8c4c-4769-f8ae-d260c45f3036"
      },
      "source": [
        "# np.random.randint() : 정수 난수 추출할 때\n",
        "\n",
        "arr = np.random.randint(-100, 100, (100000,))\n",
        "print(arr)\n",
        "\n",
        "plt.hist(arr, bins=100)\n",
        "plt.show()"
      ],
      "execution_count": null,
      "outputs": [
        {
          "output_type": "stream",
          "text": [
            "[ 67  16 -40 ... -57  34  88]\n"
          ],
          "name": "stdout"
        },
        {
          "output_type": "display_data",
          "data": {
            "image/png": "[encoded data removed]",
            "text/plain": [
              "<Figure size 432x288 with 1 Axes>"
            ]
          },
          "metadata": {
            "tags": [],
            "needs_background": "light"
          }
        }
      ]
    },
    {
      "cell_type": "code",
      "metadata": {
        "colab": {
          "base_uri": "https://localhost:8080/",
          "height": 282
        },
        "id": "igz6zHpkO8H8",
        "outputId": "fe0efd74-4b90-40e5-c297-2f305ebaba7e"
      },
      "source": [
        "# np.random.random() : 0~1 실수 난수\n",
        "\n",
        "arr = np.random.random((10000,))\n",
        "print(arr)\n",
        "\n",
        "plt.hist(arr, bins=100)\n",
        "plt.show()"
      ],
      "execution_count": null,
      "outputs": [
        {
          "output_type": "stream",
          "text": [
            "[0.90530352 0.2491036  0.15376709 ... 0.34247002 0.45450382 0.75003951]\n"
          ],
          "name": "stdout"
        },
        {
          "output_type": "display_data",
          "data": {
            "image/png": "[encoded data removed]",
            "text/plain": [
              "<Figure size 432x288 with 1 Axes>"
            ]
          },
          "metadata": {
            "tags": [],
            "needs_background": "light"
          }
        }
      ]
    },
    {
      "cell_type": "markdown",
      "metadata": {
        "id": "hHXTYQ5sPq0j"
      },
      "source": [
        "### **`rand()`와 `random()`의 차이?**\n",
        "- `np.random.rand()`은 인자로 int를 받고\n",
        "- `np.random.random()`은 인자로 shape을 받습니다.\n",
        "- 결과의 차이점은 없다고 생각하면 됩니다."
      ]
    },
    {
      "cell_type": "code",
      "metadata": {
        "colab": {
          "base_uri": "https://localhost:8080/",
          "height": 513
        },
        "id": "CH4j26EEP_Q7",
        "outputId": "f4d8e8b4-be71-48ff-fc64-54a07d33d446"
      },
      "source": [
        "arr1 = np.random.rand(10000)\n",
        "plt.hist(arr1, bins=100)\n",
        "plt.show()\n",
        "\n",
        "arr2 = np.random.random((10000,))\n",
        "plt.hist(arr2, bins=100)\n",
        "plt.show()"
      ],
      "execution_count": null,
      "outputs": [
        {
          "output_type": "display_data",
          "data": {
            "image/png": "[encoded data removed]",
            "text/plain": [
              "<Figure size 432x288 with 1 Axes>"
            ]
          },
          "metadata": {
            "tags": [],
            "needs_background": "light"
          }
        },
        {
          "output_type": "display_data",
          "data": {
            "image/png": "[encoded data removed]",
            "text/plain": [
              "<Figure size 432x288 with 1 Axes>"
            ]
          },
          "metadata": {
            "tags": [],
            "needs_background": "light"
          }
        }
      ]
    },
    {
      "cell_type": "markdown",
      "metadata": {
        "id": "TmpedX5VNJCe"
      },
      "source": [
        "---"
      ]
    },
    {
      "cell_type": "markdown",
      "metadata": {
        "id": "ko_o5L-ZQOTj"
      },
      "source": [
        "## 난수 관련 함수\n",
        "- 난수는 정말 난수일까? \n",
        "    - 컴퓨터의 난수는 알고리즘에 근거합니다. 초기값(seed)을 이용해서 특정 알고리즘을 수행시켜서 난수값을 도출하게 됩니다. \n",
        "    - 따라서 `seed()`를 사용하여 난수의 재현성을 확보할 수 있습니다. \n",
        "    - 즉, 난수를 고정시키는 작업입니다.\n",
        "- 데이터의 순서를 바꾸려면?\n",
        "    - `shuffle()`을 이용하여 쉽게 섞을 수 있습니다.\n",
        "    - 원본이 바뀌게 됩니다. \n",
        "- random sampling하는 방법은?\n",
        "    - 데이터 집합에서 일부를 무작위로 sampling을 하고 싶을 때 `choice(a, size)`를 사용합니다.\n",
        "    - a가 `ndarray` 혹은 `정수`가 나오면 `arange()`를 수행한 결과를 내보입니다.\n",
        "    - `replace = True`옵션을 설정하면 복원 추출(뽑은 것을 다시 넣고 뽑을 수 있는 추출 방법)을 할 수 있습니다.\n"
      ]
    },
    {
      "cell_type": "code",
      "metadata": {
        "colab": {
          "base_uri": "https://localhost:8080/"
        },
        "id": "EKEHzno6Vjse",
        "outputId": "c5629683-4f51-4cfb-eaa8-f86b5ded12e4"
      },
      "source": [
        "# seed() \n",
        "\n",
        "np.random.seed(1)\n",
        "arr = np.random.randint(0,100,(5,))\n",
        "print(arr)"
      ],
      "execution_count": null,
      "outputs": [
        {
          "output_type": "stream",
          "text": [
            "[37 12 72  9 75]\n"
          ],
          "name": "stdout"
        }
      ]
    },
    {
      "cell_type": "code",
      "metadata": {
        "colab": {
          "base_uri": "https://localhost:8080/"
        },
        "id": "G5bk7kxeWJkr",
        "outputId": "c321315b-b663-44a3-f395-fc915b38ad02"
      },
      "source": [
        "# shuffle() \n",
        "\n",
        "arr = np.arange(0,10,2)\n",
        "print(arr)\n",
        "\n",
        "np.random.shuffle(arr)\n",
        "print(arr)"
      ],
      "execution_count": null,
      "outputs": [
        {
          "output_type": "stream",
          "text": [
            "[0 2 4 6 8]\n",
            "[4 6 2 8 0]\n"
          ],
          "name": "stdout"
        }
      ]
    },
    {
      "cell_type": "code",
      "metadata": {
        "colab": {
          "base_uri": "https://localhost:8080/"
        },
        "id": "XUrvoFqaY1q2",
        "outputId": "34dc299c-fc98-460a-b065-61aef5b27006"
      },
      "source": [
        "# choice()\n",
        "\n",
        "arr1 = np.array([1,2,3,4,5,6,7])\n",
        "result1 = np.random.choice(arr1, 3)\n",
        "print(result1)\n",
        "\n",
        "arr2 = np.arange(5)\n",
        "result2 = np.random.choice(arr2, 3, replace=False)\n",
        "print(result2)"
      ],
      "execution_count": null,
      "outputs": [
        {
          "output_type": "stream",
          "text": [
            "[6 5 7]\n",
            "[4 3 0]\n"
          ],
          "name": "stdout"
        }
      ]
    },
    {
      "cell_type": "code",
      "metadata": {
        "colab": {
          "base_uri": "https://localhost:8080/"
        },
        "id": "GKCWcnxsbJ65",
        "outputId": "8b127b89-713b-49d9-95bf-e04020532ad3"
      },
      "source": [
        "arr1 = np.array([1, 2, 3, 4, 5, 6, 7])\n",
        "p = [0.1, 0.2, 0, 0.1, 0.1, 0.35, 0.15]     # 1을 뽑을 확률 = 0.1, 2를 뽑을 확률 = 0.2, ... \n",
        "\n",
        "result = np.random.choice(arr1, 3, replace=False, p=[0.1, 0.2, 0, 0.1, 0.1, 0.35, 0.15] )\n",
        "print(result)"
      ],
      "execution_count": null,
      "outputs": [
        {
          "output_type": "stream",
          "text": [
            "[4 6 5]\n"
          ],
          "name": "stdout"
        }
      ]
    },
    {
      "cell_type": "markdown",
      "metadata": {
        "id": "1108vJ0eNLhn"
      },
      "source": [
        "---"
      ]
    },
    {
      "cell_type": "markdown",
      "metadata": {
        "id": "mRc74OqVbzdu"
      },
      "source": [
        "## shape 관련 함수\n",
        "- `reshape()` : \n",
        "    - ndarray의 모양을 바꾸는(것처럼 보이게 하는) 함수입니다. \n",
        "    - 결과는 `view`입니다.\n",
        "    - 즉, 원본을 바꾸지 않고, 보여주는 방식만 바뀐 것 입니다.\n",
        "    - data를 담고 있지 않습니다. 단지 보여주는 것 입니다. \n",
        "- `ravel()` : \n",
        "    - 무조건 1차원으로 변경시키는 함수입니다. \n",
        "    - 이때 변경된 결과는 마찬가지로 `view`입니다.\n",
        "- `resize` : \n",
        "    - `view`가 나오지 않습니다. 주의해야 합니다.\n",
        "    - `resize(arr, shape)`로 새로운 ndarray를 생성합니다.\n",
        "    - 만약 shape을 만들기 위한 데이터가 부족하다면, 자동으로 기존의 데이터를 반복하여 채웁니다. "
      ]
    },
    {
      "cell_type": "code",
      "metadata": {
        "colab": {
          "base_uri": "https://localhost:8080/"
        },
        "id": "niFDGDjJcfdr",
        "outputId": "008d0098-a5db-4fb9-a49c-e59d63d767d3"
      },
      "source": [
        "# reshape()\n",
        "\n",
        "a = [[1,2,3], [4,5,6]]\n",
        "arr = np.array(a)\n",
        "print(arr)\n",
        "print('\\n')\n",
        "\n",
        "print(arr.shape)\n",
        "print('\\n')\n",
        "\n",
        "arr.shape = (3,2)      # shape 바꾸기 --> 속성값을 직접 변경하는 것은 좋지 못한 방법\n",
        "print(arr)"
      ],
      "execution_count": null,
      "outputs": [
        {
          "output_type": "stream",
          "text": [
            "[[1 2 3]\n",
            " [4 5 6]]\n",
            "\n",
            "\n",
            "(2, 3)\n",
            "\n",
            "\n",
            "[[1 2]\n",
            " [3 4]\n",
            " [5 6]]\n"
          ],
          "name": "stdout"
        }
      ]
    },
    {
      "cell_type": "code",
      "metadata": {
        "colab": {
          "base_uri": "https://localhost:8080/"
        },
        "id": "rkyOKGkfdqJP",
        "outputId": "f561bab5-897a-468d-e4e0-72a156e01974"
      },
      "source": [
        "arr = np.arange(0,12,1)\n",
        "result = arr.reshape(4,3)\n",
        "print(arr)\n",
        "print(result)\n",
        "\n",
        "print('\\n')\n",
        "\n",
        "arr[0] = 100        # 원본을 바꾸면?\n",
        "print(arr)      \n",
        "print(result)       # view도 바뀝니다!\n",
        "\n",
        "print('\\n')\n",
        "\n",
        "result[3,2] = 10    # view를 바꾸면?\n",
        "print(result)\n",
        "print(arr)          # 원본도 바뀝니다!"
      ],
      "execution_count": null,
      "outputs": [
        {
          "output_type": "stream",
          "text": [
            "[ 0  1  2  3  4  5  6  7  8  9 10 11]\n",
            "[[ 0  1  2]\n",
            " [ 3  4  5]\n",
            " [ 6  7  8]\n",
            " [ 9 10 11]]\n",
            "\n",
            "\n",
            "[100   1   2   3   4   5   6   7   8   9  10  11]\n",
            "[[100   1   2]\n",
            " [  3   4   5]\n",
            " [  6   7   8]\n",
            " [  9  10  11]]\n",
            "\n",
            "\n",
            "[[100   1   2]\n",
            " [  3   4   5]\n",
            " [  6   7   8]\n",
            " [  9  10  10]]\n",
            "[100   1   2   3   4   5   6   7   8   9  10  10]\n"
          ],
          "name": "stdout"
        }
      ]
    },
    {
      "cell_type": "code",
      "metadata": {
        "colab": {
          "base_uri": "https://localhost:8080/"
        },
        "id": "qWJUUJgWkOQN",
        "outputId": "b689a326-cc45-4995-9db0-10e9c9f18597"
      },
      "source": [
        "arr = np.arange(0,12,1)\n",
        "print(arr)\n",
        "print(arr.size)\n",
        "\n",
        "result1 = arr.reshape(2,6)\n",
        "print(result1)\n",
        "\n",
        "result2 = arr.reshape(2,-1)\n",
        "print(result2)\n",
        "\n",
        "result3 = arr.reshape(-1,3)\n",
        "print(result3)\n",
        "\n",
        "result4 = arr.reshape(2,3,-1)\n",
        "print(result4)"
      ],
      "execution_count": null,
      "outputs": [
        {
          "output_type": "stream",
          "text": [
            "[ 0  1  2  3  4  5  6  7  8  9 10 11]\n",
            "12\n",
            "[[ 0  1  2  3  4  5]\n",
            " [ 6  7  8  9 10 11]]\n",
            "[[ 0  1  2  3  4  5]\n",
            " [ 6  7  8  9 10 11]]\n",
            "[[ 0  1  2]\n",
            " [ 3  4  5]\n",
            " [ 6  7  8]\n",
            " [ 9 10 11]]\n",
            "[[[ 0  1]\n",
            "  [ 2  3]\n",
            "  [ 4  5]]\n",
            "\n",
            " [[ 6  7]\n",
            "  [ 8  9]\n",
            "  [10 11]]]\n"
          ],
          "name": "stdout"
        }
      ]
    },
    {
      "cell_type": "markdown",
      "metadata": {
        "id": "BsYNr0BlmBtz"
      },
      "source": [
        ">- `reshape`의 결과는 view 입니다. 즉, 데이터를 가지고 있지 않습니다.\n",
        "- 만약 view가 아니라 별도의 ndarray를 만들고 싶다면, `copy()`를 사용하면 됩니다."
      ]
    },
    {
      "cell_type": "code",
      "metadata": {
        "colab": {
          "base_uri": "https://localhost:8080/"
        },
        "id": "rKN9SB6PmE0d",
        "outputId": "bdacaaa3-9c29-4c37-dae0-364f7348aa06"
      },
      "source": [
        "result = arr.reshape(3,4).copy()\n",
        "print(result)\n",
        "print(arr)"
      ],
      "execution_count": null,
      "outputs": [
        {
          "output_type": "stream",
          "text": [
            "[[ 0  1  2  3]\n",
            " [ 4  5  6  7]\n",
            " [ 8  9 10 11]]\n",
            "[ 0  1  2  3  4  5  6  7  8  9 10 11]\n"
          ],
          "name": "stdout"
        }
      ]
    },
    {
      "cell_type": "code",
      "metadata": {
        "colab": {
          "base_uri": "https://localhost:8080/"
        },
        "id": "YgVGb2M0mYNq",
        "outputId": "925d6cb7-829e-489b-f104-5b5335d3ec65"
      },
      "source": [
        "# ravel() : 1차원으로 변경\n",
        "\n",
        "a = [[1,2,3], [4,5,6]]\n",
        "arr = np.array(a)\n",
        "print(arr)\n",
        "print('\\n')\n",
        "\n",
        "result = arr.ravel()\n",
        "print(result)\n",
        "print('\\n')\n",
        "\n",
        "arr[0,0] = 100  # 원본을 바꾸면\n",
        "print(arr)\n",
        "print(result)   # view도 바뀝니다!"
      ],
      "execution_count": null,
      "outputs": [
        {
          "output_type": "stream",
          "text": [
            "[[1 2 3]\n",
            " [4 5 6]]\n",
            "\n",
            "\n",
            "[1 2 3 4 5 6]\n",
            "\n",
            "\n",
            "[[100   2   3]\n",
            " [  4   5   6]]\n",
            "[100   2   3   4   5   6]\n"
          ],
          "name": "stdout"
        }
      ]
    },
    {
      "cell_type": "code",
      "metadata": {
        "colab": {
          "base_uri": "https://localhost:8080/"
        },
        "id": "aICc3HTOmxy1",
        "outputId": "6b23f15c-e201-4059-9e11-3e8950e1a85a"
      },
      "source": [
        "# resize() : shape을 바꿔서 새로운 ndarray를 생성\n",
        "\n",
        "arr = np.arange(0,12,1)     \n",
        "print(arr)\n",
        "print('\\n')\n",
        "\n",
        "result1 = arr.resize(3,4)    \n",
        "print(result1)   # None\n",
        "print(arr)       # 원본이 달라지는 것을 확인할 수 있습니다.\n",
        "print('\\n')\n",
        "\n",
        "\n",
        "# resize는 view가 나오지 않기 때문에 다음과 같이 사용해야 합니다. \n",
        "arr = np.arange(0,12,1)  \n",
        "result2 = np.resize(arr, (6,2))\n",
        "print(result2)\n",
        "print('\\n')\n",
        "\n",
        "\n",
        "# resize는 빈 값을 자동으로 채웁니다. --> 오류 발생 가능성이 높아 주의해야 합니다. \n",
        "result = np.resize(arr, (2,7))\n",
        "print(result)"
      ],
      "execution_count": null,
      "outputs": [
        {
          "output_type": "stream",
          "text": [
            "[ 0  1  2  3  4  5  6  7  8  9 10 11]\n",
            "\n",
            "\n",
            "None\n",
            "[[ 0  1  2  3]\n",
            " [ 4  5  6  7]\n",
            " [ 8  9 10 11]]\n",
            "\n",
            "\n",
            "[[ 0  1]\n",
            " [ 2  3]\n",
            " [ 4  5]\n",
            " [ 6  7]\n",
            " [ 8  9]\n",
            " [10 11]]\n",
            "\n",
            "\n",
            "[[ 0  1  2  3  4  5  6]\n",
            " [ 7  8  9 10 11  0  1]]\n"
          ],
          "name": "stdout"
        }
      ]
    },
    {
      "cell_type": "markdown",
      "metadata": {
        "id": "JWb76DJglKml"
      },
      "source": [
        "---"
      ]
    },
    {
      "cell_type": "markdown",
      "metadata": {
        "id": "6AbZ2EX5fxCe"
      },
      "source": [
        "## Indexing과 Slicing\n",
        "- `list`와 상당히 유사합니다.\n",
        "- 차이점? \n",
        "    - Numpy의 ndarray에 대해서 slicing하면 `view`가 만들어집니다.\n"
      ]
    },
    {
      "cell_type": "code",
      "metadata": {
        "colab": {
          "base_uri": "https://localhost:8080/"
        },
        "id": "Lil9_66AlJwS",
        "outputId": "54ca182e-de7e-4d81-cef1-672b9d1a6771"
      },
      "source": [
        "# Indexing\n",
        "\n",
        "arr = np.arange(10,20,1)\n",
        "print(arr)\n",
        "\n",
        "for item in arr:\n",
        "    print(item, end=' ')            \n",
        "\n",
        "for idx, item in enumerate(arr):    # tuple 형태로 index와 요소를 뽑아요\n",
        "    print(idx, item)"
      ],
      "execution_count": null,
      "outputs": [
        {
          "output_type": "stream",
          "text": [
            "[10 11 12 13 14 15 16 17 18 19]\n",
            "10 11 12 13 14 15 16 17 18 19 0 10\n",
            "1 11\n",
            "2 12\n",
            "3 13\n",
            "4 14\n",
            "5 15\n",
            "6 16\n",
            "7 17\n",
            "8 18\n",
            "9 19\n"
          ],
          "name": "stdout"
        }
      ]
    },
    {
      "cell_type": "code",
      "metadata": {
        "colab": {
          "base_uri": "https://localhost:8080/"
        },
        "id": "Ys-onp-YxnLb",
        "outputId": "0eb0d7cd-27c5-40e1-a243-75e7de1f6b7c"
      },
      "source": [
        "# Slicing\n",
        "\n",
        "arr = np.arange(0,5,1)\n",
        "print(arr)\n",
        "\n",
        "tmp = arr[0:3]\n",
        "print(tmp)\n",
        "\n",
        "arr[0] = 100\n",
        "\n",
        "print(arr)\n",
        "print(tmp)  # view인 tmp에서도 바뀌어요!"
      ],
      "execution_count": 30,
      "outputs": [
        {
          "output_type": "stream",
          "text": [
            "[0 1 2 3 4]\n",
            "[0 1 2]\n",
            "[100   1   2   3   4]\n",
            "[100   1   2]\n"
          ],
          "name": "stdout"
        }
      ]
    },
    {
      "cell_type": "code",
      "metadata": {
        "colab": {
          "base_uri": "https://localhost:8080/"
        },
        "id": "lnkvv7M7ncwk",
        "outputId": "b33ef986-3f44-4c06-d733-e2fe24e53649"
      },
      "source": [
        "# slicing 방식은 기본적으로 리스트와 비슷해요.\n",
        "\n",
        "arr = np.arange(0,5,1)\n",
        "print(arr)\n",
        "\n",
        "print(arr[0:3])     # print(arr[0:3:1])와 같아요 \n",
        "print(arr[0:-1])\n",
        "print(arr[0::2])    # 2칸씩 증가"
      ],
      "execution_count": 7,
      "outputs": [
        {
          "output_type": "stream",
          "text": [
            "[0 1 2 3 4]\n",
            "[0 1 2]\n",
            "[0 1 2 3]\n",
            "[0 2 4]\n"
          ],
          "name": "stdout"
        }
      ]
    },
    {
      "cell_type": "code",
      "metadata": {
        "colab": {
          "base_uri": "https://localhost:8080/"
        },
        "id": "xReAAfDwnl0L",
        "outputId": "c89865d8-a027-4be0-ad2f-cd55075087fb"
      },
      "source": [
        "# 다차원 slicing\n",
        "# 2차원 ndarray의 indexing: [행,열]\n",
        "\n",
        "arr = np.array([[1,2,3],\n",
        "                [4,5,6],\n",
        "                [7,8,9],\n",
        "                [10,11,12]])\n",
        "\n",
        "print(arr)\n",
        "print(arr[1,2])\n",
        "print(arr[2,:])     # 1차원의 ndarray가 결과(view)로 나와요\n",
        "print(arr[2])\n",
        "print(arr[1:3, :])   # 1~3행을 보여라. 2차원의 ndarray"
      ],
      "execution_count": 11,
      "outputs": [
        {
          "output_type": "stream",
          "text": [
            "[[ 1  2  3]\n",
            " [ 4  5  6]\n",
            " [ 7  8  9]\n",
            " [10 11 12]]\n",
            "6\n",
            "[7 8 9]\n",
            "[7 8 9]\n",
            "[[4 5 6]\n",
            " [7 8 9]]\n"
          ],
          "name": "stdout"
        }
      ]
    },
    {
      "cell_type": "markdown",
      "metadata": {
        "id": "sxt0kzvAoM5K"
      },
      "source": [
        "---"
      ]
    },
    {
      "cell_type": "markdown",
      "metadata": {
        "id": "5Q2SlKQiqVE0"
      },
      "source": [
        "### Boolean Indexing\n",
        "Boolean Mask 안에서 `True`로 지정된 요소만 indexing하는 방식입니다. "
      ]
    },
    {
      "cell_type": "code",
      "metadata": {
        "colab": {
          "base_uri": "https://localhost:8080/"
        },
        "id": "SwGuRaJOqZw2",
        "outputId": "090da032-c71d-488c-fd80-5be2019ac54e"
      },
      "source": [
        "# arr[Boolean Mask]로 indexing\n",
        "\n",
        "arr = np.arange(0,10,1)\n",
        "print(arr)\n",
        "print('\\n')\n",
        "\n",
        "\n",
        "# 1) True/False 직접적으로 주기\n",
        "#        [  0    1     2    3     4    5     6    7     8    9  ]\n",
        "b_mask = [True,False,True,False,True,False,True,False,True,False]\n",
        "print(arr[b_mask])\n",
        "print('\\n')\n",
        "\n",
        "\n",
        "# 2) 사칙연산 수행 --> shape이 같아야 해요\n",
        "arr1 = np.arange(0,3,1)\n",
        "arr2 = np.arange(10,13,1)\n",
        "print(arr1)\n",
        "print(arr2)\n",
        "print(arr1 + arr2)  # shape이 맞기 때문에 요소끼리 더하는 연산을 수행해요.\n",
        "print(arr1 + 1)     # scalar인 1을 자동으로 shape을 맞춘 vector로 만들어서 연산해요.(Broadcasting)\n",
        "print('\\n')\n",
        "\n",
        "\n",
        "# 3) 연산자 논리를 통해 masking\n",
        "print(arr2[arr2%2 == 0])    # arr2 중에서 짝수인 것만 masking\n",
        "print(arr2[arr2 < 12])      # arr2 중에서 12보다 작은 수만 masking"
      ],
      "execution_count": 24,
      "outputs": [
        {
          "output_type": "stream",
          "text": [
            "[0 1 2 3 4 5 6 7 8 9]\n",
            "\n",
            "\n",
            "[0 2 4 6 8]\n",
            "\n",
            "\n",
            "[0 1 2]\n",
            "[10 11 12]\n",
            "[10 12 14]\n",
            "[1 2 3]\n",
            "\n",
            "\n",
            "[10 12]\n",
            "[10 11]\n"
          ],
          "name": "stdout"
        }
      ]
    },
    {
      "cell_type": "markdown",
      "metadata": {
        "id": "wUuCDI5yv-zj"
      },
      "source": [
        "#### *예제*\n",
        "1부터 100까지 수 중 3의 배수의 개수를 구하세요."
      ]
    },
    {
      "cell_type": "code",
      "metadata": {
        "colab": {
          "base_uri": "https://localhost:8080/"
        },
        "id": "T4rDhYEfwBvl",
        "outputId": "bfb3d37e-38de-489a-c271-d951d3735df7"
      },
      "source": [
        "arr = np.arange(1,101,1)\n",
        "print(len(arr[arr%3 == 0]))"
      ],
      "execution_count": 29,
      "outputs": [
        {
          "output_type": "stream",
          "text": [
            "33\n"
          ],
          "name": "stdout"
        }
      ]
    },
    {
      "cell_type": "markdown",
      "metadata": {
        "id": "XFt5rN3ow2Z5"
      },
      "source": [
        "---"
      ]
    },
    {
      "cell_type": "markdown",
      "metadata": {
        "id": "quPAd0OQw3Yf"
      },
      "source": [
        "### Fancy Indexing\n",
        "- ndarray에 `index 배열`(list, ndarray)를 전달해서 indexing하는 방식입니다."
      ]
    },
    {
      "cell_type": "code",
      "metadata": {
        "colab": {
          "base_uri": "https://localhost:8080/"
        },
        "id": "at4R1Ekuw4EI",
        "outputId": "d6326b5d-61ce-4452-9982-c2e4fa98e676"
      },
      "source": [
        "arr = np.arange(0,5,1)\n",
        "print(arr)\n",
        "\n",
        "print(arr[1])           # 기본 숫자 indexing\n",
        "print(arr[[0, 2, 3]])   # index 배열을 넣어서 데이터를 추출해요"
      ],
      "execution_count": 31,
      "outputs": [
        {
          "output_type": "stream",
          "text": [
            "[0 1 2 3 4]\n",
            "1\n",
            "[0 2 3]\n"
          ],
          "name": "stdout"
        }
      ]
    },
    {
      "cell_type": "markdown",
      "metadata": {
        "id": "4gO6BYJBy2Ty"
      },
      "source": [
        "#### *예제*"
      ]
    },
    {
      "cell_type": "code",
      "metadata": {
        "colab": {
          "base_uri": "https://localhost:8080/"
        },
        "id": "UqDIn9g0zH8X",
        "outputId": "9adc218b-03bb-4c04-af99-837932e127a4"
      },
      "source": [
        "arr = np.arange(0,12,1).reshape(3,4).copy()\n",
        "print(arr)\n",
        "print('\\n')\n",
        "\n",
        "print(arr[1,2])         # 6     : scalar\n",
        "print(arr[1:2, 2])      # [6]   : 1차원 -- 슬라이싱 1번\n",
        "print(arr[1:2, 2:3])    # [[6]] : 2차원 -- 슬라이싱 2번\n",
        "print('\\n')\n",
        "\n",
        "print(arr[[0,2], 2])    # [ 2 10] : 행을 Fancy Indexing으로 slicing\n",
        "print(arr[[0,2], 2:3])  # [[ 2]\n",
        "print('\\n')             #  [10]]  : 행을 fancy indexing, 열을 slicing"
      ],
      "execution_count": 40,
      "outputs": [
        {
          "output_type": "stream",
          "text": [
            "[[ 0  1  2  3]\n",
            " [ 4  5  6  7]\n",
            " [ 8  9 10 11]]\n",
            "\n",
            "\n",
            "6\n",
            "[6]\n",
            "[[6]]\n",
            "\n",
            "\n",
            "[ 2 10]\n",
            "[[ 2]\n",
            " [10]]\n",
            "\n",
            "\n"
          ],
          "name": "stdout"
        }
      ]
    },
    {
      "cell_type": "markdown",
      "metadata": {
        "id": "_E8BogjX10KA"
      },
      "source": [
        "> Fancy Indexing을 두 번 쓸 수 있을까?\n",
        "- 아뇨! 그렇게 쓸 수 없습니다.  \n",
        "1) 따로 쓰거나  \n",
        "2) `np._ix`함수를 이용해야 합니다."
      ]
    },
    {
      "cell_type": "code",
      "metadata": {
        "colab": {
          "base_uri": "https://localhost:8080/"
        },
        "id": "R4B-1NbT2LUV",
        "outputId": "7840d1f3-552c-40ba-d4da-7575ba43bce9"
      },
      "source": [
        "arr = np.arange(0,12,1).reshape(3,4).copy()\n",
        "print(arr)\n",
        "print('\\n')\n",
        "\n",
        "\n",
        "# !!주의!! 이렇게 둘 다 fancy indexing을 하면 안돼요.\n",
        "print(arr[[0,2], [0,2]])         \n",
        "\n",
        "\n",
        "# 방법 1) 따로 쓰면 돼요.\n",
        "# 행을 먼저 slicing 하고, 그 결과에 열을 추려요.\n",
        "result = arr[[0,2]][:,[0,2]]\n",
        "print(result)\n",
        "\n",
        "\n",
        "# 방법 2) np.ix_ 함수를 이용해요.\n",
        "result2 = arr[np.ix_([0,2], [0,2])]\n",
        "print(result2)"
      ],
      "execution_count": 44,
      "outputs": [
        {
          "output_type": "stream",
          "text": [
            "[[ 0  1  2  3]\n",
            " [ 4  5  6  7]\n",
            " [ 8  9 10 11]]\n",
            "\n",
            "\n",
            "[ 0 10]\n",
            "[[ 0  2]\n",
            " [ 8 10]]\n",
            "[[ 0  2]\n",
            " [ 8 10]]\n"
          ],
          "name": "stdout"
        }
      ]
    },
    {
      "cell_type": "markdown",
      "metadata": {
        "id": "vWAh2IJO4Uha"
      },
      "source": [
        "---"
      ]
    },
    {
      "cell_type": "markdown",
      "metadata": {
        "id": "0LzdNzu64VaW"
      },
      "source": [
        "## 사칙연산 & 행렬곱\n",
        "- 같은 shape일 경우 연산수행이 가능합니다.\n",
        "- `list`와 연산자의 기능이 다릅니다.\n",
        "- 행렬곱\n",
        "    - (k X `m`) * (`m` X s) 식으로 왼쪽 행렬의 열과 오른쪽 행렬의 행의 수가 일치해야 합니다.\n",
        "    - `np.matmul(A,B)`함수를 이용합니다."
      ]
    },
    {
      "cell_type": "code",
      "metadata": {
        "colab": {
          "base_uri": "https://localhost:8080/"
        },
        "id": "ilgxAtG84ao8",
        "outputId": "eb9f993d-d2da-4474-9232-b5bc27ea2031"
      },
      "source": [
        "# list의 연산\n",
        "a = [1,2,3]\n",
        "b = [4,5,6]\n",
        "print(a + b)        # 리스트의 + 는 concatenate를 뜻해요.\n",
        "print('\\n')\n",
        "\n",
        "# ndarray의 + 연산\n",
        "arr1 = np.array([[1,2,3], [4,5,6]])\n",
        "arr2 = np.arange(10,16,1).reshape(2,3).copy()\n",
        "print(arr1)\n",
        "print(arr2)\n",
        "print(arr1 + arr2)  # ndarray의 +는 같은 위치의 요소끼리 더해요."
      ],
      "execution_count": 48,
      "outputs": [
        {
          "output_type": "stream",
          "text": [
            "[1, 2, 3, 4, 5, 6]\n",
            "\n",
            "\n",
            "[[1 2 3]\n",
            " [4 5 6]]\n",
            "[[10 11 12]\n",
            " [13 14 15]]\n",
            "[[11 13 15]\n",
            " [17 19 21]]\n"
          ],
          "name": "stdout"
        }
      ]
    },
    {
      "cell_type": "code",
      "metadata": {
        "colab": {
          "base_uri": "https://localhost:8080/"
        },
        "id": "N1UcMrRX6PxI",
        "outputId": "974aa55f-d42a-4eb6-83a1-289ec427bc86"
      },
      "source": [
        "# ndarray의 행렬곱 (matrix multiplication)\n",
        "\n",
        "a = np.array([[1,2], [3,4], [5,6]]) # (3 X 2)\n",
        "b = np.array([[1,2,3], [4,5,6]])    # (2 X 3)\n",
        "\n",
        "print(np.matmul(a,b))"
      ],
      "execution_count": 49,
      "outputs": [
        {
          "output_type": "stream",
          "text": [
            "[[ 9 12 15]\n",
            " [19 26 33]\n",
            " [29 40 51]]\n"
          ],
          "name": "stdout"
        }
      ]
    },
    {
      "cell_type": "markdown",
      "metadata": {
        "id": "vnAWx6QS691x"
      },
      "source": [
        "### Broadcasting\n",
        "- 연산을 수행하기 위해 자동적으로 shape을 일치시키는 기능을 뜻합니다.\n",
        "- `np.matmul`연산에서는 broadcasting이 발생하지 않습니다."
      ]
    },
    {
      "cell_type": "code",
      "metadata": {
        "colab": {
          "base_uri": "https://localhost:8080/"
        },
        "id": "VMyyFlWS7BlW",
        "outputId": "d8792dd6-5bcb-49e8-a720-f995812b42ff"
      },
      "source": [
        "arr1 = np.array([[1,2,3],\n",
        "                 [4,5,6]])   # (2 x 3)\n",
        "arr2 = np.array([1,2,3])     # 1차원 ndarray\n",
        "\n",
        "\n",
        "# shape이 다른데 어떻게 연산해야 할까요?\n",
        "# 가능한 경우에, 자동으로 shape을 맞춰서 연산을 수행합니다.\n",
        "\n",
        "print(arr1 + arr2)  # arr2을 두 번\n",
        "print(arr1 * 3)     # scalar는 broadcasting이 쉬워요\n",
        "\n",
        "# !!주의!! np.matmul(행렬곱) 연산에서는 broadcasting이 발생하지 않아요"
      ],
      "execution_count": 51,
      "outputs": [
        {
          "output_type": "stream",
          "text": [
            "[[2 4 6]\n",
            " [5 7 9]]\n"
          ],
          "name": "stdout"
        }
      ]
    },
    {
      "cell_type": "markdown",
      "metadata": {
        "id": "FvsQHiMnNO8v"
      },
      "source": [
        "\n",
        "---"
      ]
    },
    {
      "cell_type": "markdown",
      "metadata": {
        "id": "y0oV_ur6fxUj"
      },
      "source": [
        "## 반복문 사용하기 (`for`, `while`)\n",
        "- 기존: \n",
        "    - 1차원 데이터 : 기존에 했던 것처럼 for나 while을 사용하면 됩니다.\n",
        "    - 2차원 데이터 : `for`문을 2번 수행합니다.\n",
        "    - 3차원 데이터 : `for`문을 3번 수행합니다.\n",
        "- `ndarray`에 대해 반복 처리를 할 때는 `iterator`을 이용하는 게 바람직합니다.\n",
        "- `iternext()`함수와 `finished`라는 속성을 이용하여 `ndarray`의 모든 요소를 반복적으로 access 할 수 있습니다.\n",
        "\n"
      ]
    },
    {
      "cell_type": "code",
      "metadata": {
        "colab": {
          "base_uri": "https://localhost:8080/"
        },
        "id": "SoT-LP2igWva",
        "outputId": "ea877f04-137c-4f9a-e4a8-e92347dda47b"
      },
      "source": [
        "##### 1차원 ndarray ######\n",
        "\n",
        "arr = np.array([1, 2, 3, 4, 5])\n",
        "\n",
        "\n",
        "# 1) for 이용                            # 1차원에서는 for문이 간단합니다. \n",
        "for tmp in arr:\n",
        "    print(tmp, end=' ')\n",
        "\n",
        "print('\\n')\n",
        "\n",
        "\n",
        "# 2) iterator 이용\n",
        "it = np.nditer(arr, flags=['c_index'])  # 지정된 flag의 형태를 가지는 iterator를 추출\n",
        "\n",
        "while not it.finished:                  # iterator가 끝나지 않을 동안 반복해라\n",
        "    idx = it.index\n",
        "    print(arr[idx], end=' ')\n",
        "    it.iternext()                       # iterator를 다음 칸으로 바꾸기 "
      ],
      "execution_count": null,
      "outputs": [
        {
          "output_type": "stream",
          "text": [
            "1 2 3 4 5 \n",
            "\n",
            "1 2 3 4 5 "
          ],
          "name": "stdout"
        }
      ]
    },
    {
      "cell_type": "code",
      "metadata": {
        "colab": {
          "base_uri": "https://localhost:8080/"
        },
        "id": "_LuNprxZh0ux",
        "outputId": "a3d02505-9a0b-4ece-9123-c5b259df4801"
      },
      "source": [
        "##### 2차원 ndarray ######\n",
        "\n",
        "arr = np.array([[1, 2, 3], [4, 5, 6]])  # (2행, 3열)\n",
        "\n",
        "\n",
        "# 1) for 이용\n",
        "for tmp1 in range(arr.shape[0]):        # 행\n",
        "    for tmp2 in range(arr.shape[1]):    # 열\n",
        "        print(arr[tmp1, tmp2], end=' ')\n",
        "\n",
        "print('\\n')\n",
        "\n",
        "\n",
        "# 2) iterator 이용                       # 2차원 이상에서는 iterator를 사용하는 것이 효율적 입니다.  \n",
        "it = np.nditer(arr, flags=['multi_index'])\n",
        "while not it.finished:\n",
        "    idx = it.multi_index      # (0,0) --> (0,1) --> (0,2) --> (1,0) --> (1,1) --> (1,2)\n",
        "    print(arr[idx], end=' ')\n",
        "    it.iternext()"
      ],
      "execution_count": null,
      "outputs": [
        {
          "output_type": "stream",
          "text": [
            "1 2 3 4 5 6 \n",
            "\n",
            "1 2 3 4 5 6 "
          ],
          "name": "stdout"
        }
      ]
    },
    {
      "cell_type": "markdown",
      "metadata": {
        "id": "BMZubDxGNQ6i"
      },
      "source": [
        "---"
      ]
    },
    {
      "cell_type": "markdown",
      "metadata": {
        "id": "JaXOeWKAtHQH"
      },
      "source": [
        "## ndarray의 집계함수\n",
        "- numpy의 모든 집계함수는 `axis`를 기준으로 계산합니다.  \n",
        "    - 1차원 : (열)로 구성되어 있습니다.\n",
        "    - 2차원 : (행, 열)\n",
        "    - 3차원 : (면, 행, 열)\n",
        "    - `axis = 0`\n",
        "        - 1차원에서는 \"열\", 2차원에서는 \"행\", 3차원에서는 \"면\"을 뜻합니다.\n",
        "\n",
        "- axis를 따로 명시하지 않는다면 기본적으로 axis=None으로 설정되며, 이런 경우 집계함수의 대상은 전체 ndarray로 간주됩니다.\n",
        "- 집계함수 종류\n",
        "    - `np.sum(arr)` : 합계\n",
        "    - `np.mean(arr)` : 평균\n",
        "    - `np.max(arr)` : 최댓값\n",
        "    - `np.min(arr)` : 최솟값\n",
        "    - `np.argmax(arr)` : 최댓값의 index\n",
        "    - `np.argmin(arr)` : 최솟값의 index\n",
        "    - `np.std(arr)` : 표준편차"
      ]
    },
    {
      "cell_type": "code",
      "metadata": {
        "colab": {
          "base_uri": "https://localhost:8080/"
        },
        "id": "ubPI0cwktL3R",
        "outputId": "90bae781-72b1-434c-ffc9-2505c2382547"
      },
      "source": [
        "arr = np.arange(1,7,1).reshape(2,3).copy()\n",
        "print(arr)\n",
        "print('\\n')\n",
        "\n",
        "print(arr.sum())    \n",
        "print(np.sum(arr))      # 합계\n",
        "print(np.mean(arr))     # 평균\n",
        "print(np.max(arr))      # 최댓값\n",
        "print(np.min(arr))      # 최솟값\n",
        "print(np.argmax(arr))   # 최댓값의 index\n",
        "print(np.argmin(arr))   # 최솟값의 index\n",
        "print(np.std(arr))      # 표준편차"
      ],
      "execution_count": null,
      "outputs": [
        {
          "output_type": "stream",
          "text": [
            "[[1 2 3]\n",
            " [4 5 6]]\n",
            "\n",
            "\n",
            "21\n",
            "21\n",
            "3.5\n",
            "6\n",
            "1\n",
            "5\n",
            "0\n",
            "1.707825127659933\n"
          ],
          "name": "stdout"
        }
      ]
    },
    {
      "cell_type": "code",
      "metadata": {
        "colab": {
          "base_uri": "https://localhost:8080/"
        },
        "id": "hRvZ2kX5whNx",
        "outputId": "b4b87dfd-9784-4e29-9c83-23010070630a"
      },
      "source": [
        "# 1차원 ndarray\n",
        "arr = np.array([1, 2, 3, 4, 5])\n",
        "print('1차원', arr, '\\n')\n",
        "print(arr.sum(axis=0))  # 열 방향\n",
        "\n",
        "print('\\n'*2)\n",
        "\n",
        "\n",
        "# 2차원 ndarray\n",
        "arr = np.arange(1,11,1).reshape(2,5).copy()\n",
        "print('2차원', arr, '\\n')\n",
        "print(arr.sum(axis=0))  # 행 방향\n",
        "print(arr.sum(axis=1))  # 열 방향\n",
        "\n",
        "print('\\n'*2)\n",
        "\n",
        "\n",
        "# 3차원 ndarray\n",
        "arr = np.arange(1,13,1).reshape(2,2,3).copy()\n",
        "print('3차원', arr, '\\n')\n",
        "print(arr.sum(axis=0))  # 면 방향\n",
        "print(arr.sum(axis=1))  # 행 방향\n",
        "print(arr.sum(axis=2))  # 열 방향\n",
        "print(arr.argmax(axis=1))"
      ],
      "execution_count": null,
      "outputs": [
        {
          "output_type": "stream",
          "text": [
            "1차원 [1 2 3 4 5] \n",
            "\n",
            "15\n",
            "\n",
            "\n",
            "\n",
            "2차원 [[ 1  2  3  4  5]\n",
            " [ 6  7  8  9 10]] \n",
            "\n",
            "[ 7  9 11 13 15]\n",
            "[15 40]\n",
            "\n",
            "\n",
            "\n",
            "3차원 [[[ 1  2  3]\n",
            "  [ 4  5  6]]\n",
            "\n",
            " [[ 7  8  9]\n",
            "  [10 11 12]]] \n",
            "\n",
            "[[ 8 10 12]\n",
            " [14 16 18]]\n",
            "[[ 5  7  9]\n",
            " [17 19 21]]\n",
            "[[ 6 15]\n",
            " [24 33]]\n",
            "[[1 1 1]\n",
            " [1 1 1]]\n"
          ],
          "name": "stdout"
        }
      ]
    },
    {
      "cell_type": "markdown",
      "metadata": {
        "id": "kZ59YFENNVkU"
      },
      "source": [
        "---"
      ]
    },
    {
      "cell_type": "markdown",
      "metadata": {
        "id": "5DV4v1wt0qFQ"
      },
      "source": [
        "## 예제\n"
      ]
    },
    {
      "cell_type": "markdown",
      "metadata": {
        "id": "Z0bXAXMN9JX8"
      },
      "source": [
        "### *예제 1*"
      ]
    },
    {
      "cell_type": "code",
      "metadata": {
        "colab": {
          "base_uri": "https://localhost:8080/"
        },
        "id": "H7Hn1alD0FBE",
        "outputId": "8a2bef99-7520-4251-bf4e-07e92d3a0748"
      },
      "source": [
        "np.random.seed(1)\n",
        "arr = np.random.randint(0,5,(2,2,3))\n",
        "print(arr)\n",
        "print(arr.sum(axis=0))"
      ],
      "execution_count": null,
      "outputs": [
        {
          "output_type": "stream",
          "text": [
            "[[[3 4 0]\n",
            "  [1 3 0]]\n",
            "\n",
            " [[0 1 4]\n",
            "  [4 1 2]]]\n",
            "[[3 5 4]\n",
            " [5 4 2]]\n"
          ],
          "name": "stdout"
        }
      ]
    },
    {
      "cell_type": "markdown",
      "metadata": {
        "id": "hNuxJK0Q6Ydx"
      },
      "source": [
        "### *예제 2*\n",
        "1. 랜덤으로 정수형 난수를 생성하여 (3 X 4) ndarray를 만드세요.\n",
        "    - 범위: 1부터 10까지\n",
        "    - 개수: 12개\n",
        "2. 이 ndarray 안에 있는 난수 중 5 이상인 숫자들의 합을 구해서 출력하세요.\n",
        "\n"
      ]
    },
    {
      "cell_type": "code",
      "metadata": {
        "colab": {
          "base_uri": "https://localhost:8080/"
        },
        "id": "6EVFFZaJ65Dq",
        "outputId": "3c0db09f-3857-4128-dd15-878377e9c59e"
      },
      "source": [
        "# 1. 난수 생성\n",
        "np.random.seed(1)\n",
        "arr = np.random.randint(1, 11, (3,4))\n",
        "print(arr)\n",
        "\n",
        "\n",
        "# 2-1. 합 구하기 방법 (1)\n",
        "it = np.nditer(arr, flags=['multi_index'])\n",
        "result = []\n",
        "\n",
        "while not it.finished:\n",
        "    idx = it.multi_index\n",
        "    if arr[idx] >= 5:\n",
        "        result.append(arr[idx])\n",
        "    it.iternext()\n",
        "\n",
        "print(sum(result))\n",
        "\n",
        "\n",
        "# 2-2. 합 구하기 방법 (2)\n",
        "print(arr[arr >= 5].sum())"
      ],
      "execution_count": null,
      "outputs": [
        {
          "output_type": "stream",
          "text": [
            "[[ 6  9 10  6]\n",
            " [ 1  1  2  8]\n",
            " [ 7 10  3  5]]\n",
            "61\n",
            "61\n"
          ],
          "name": "stdout"
        }
      ]
    }
  ]
}